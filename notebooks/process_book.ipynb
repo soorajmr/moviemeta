{
 "cells": [
  {
   "cell_type": "markdown",
   "metadata": {},
   "source": [
    "<h1 align='center'>Understanding movie similarities and preferences from text</h1>\n",
    "<hr>"
   ]
  },
  {
   "cell_type": "markdown",
   "metadata": {},
   "source": [
    "## Overview and Motivation"
   ]
  },
  {
   "cell_type": "markdown",
   "metadata": {},
   "source": [
    "Personal video consumption patterns are changing very fast worldwide, with the traditional satellite and cable infrastructure giving way to internet based delivery. This change has repercussions throughout the video production pipeline, including the emergence of many new entrants. Unlike earlier, content producers and distributors have an easy access to a huge market due to the nature of the internet. In this situation, it becomes very important for these companies to understand the collective preferences of the market well. This is essential for deciding what video content to produce and also for effective targeted advertising or recommendations. Through our analysis, we are making an attempt to contribute to the understanding of the nature of movie preferences of different populations across the world. \n",
    "\n",
    "Our idea is to capture the themes and characteristics of movies by analyzing textual information that describe their content.\n",
    "We apply text mining algorithms to two corpora of movie plot summaries and metadata, that we download and scrape from  the [Internet Movie Database](http://www.imdb.com/interfaces) (IMDB) and Wikipedia. We will primarily build two models, a probabilistic topic modeling algorithm, LDA, and an algorithm that transforms documents into vectors that capture their semantic meaning by applying a neural network, Doc2Vec.\n",
    "\n",
    "We build these models of movies for the purpose of studying the nature of collective user preferences. We further do an analysis of prevalent topics across the countries that movies were produced in. And we scraped [boxoffice](http://www.boxofficemojo.com) data from the internet to see how movie preferences vary across different countries. We also carry out a similar analysis across the dimension of time to study the nature of variations in the preference patterns. The distributed representation using Doc2Vec algorithm allows us to study the similarities among the movies and look for patterns in the vector space. "
   ]
  },
  {
   "cell_type": "markdown",
   "metadata": {},
   "source": [
    "## Related Work"
   ]
  },
  {
   "cell_type": "markdown",
   "metadata": {},
   "source": [
    "There have been similar ideas applied to the movie domain: In [Comparing Topic Models for a Movie Recommendation System](https://www.dbgroup.unimo.it/~po/pubs/WEBIST_2014.pdf) two topic modeling algorithms (LSI and LDA) are compared in respect to their suitability for content based recommendations. In [From Movie Reviews to Restaurants Recommendation](https://cs224d.stanford.edu/reports/XingMargaret.pdf) word vector representations are used for sentiment analysis of movie reviews.\n",
    "\n",
    "We were also inspired by some work from other domains: The clothes company [Stitch Fix](https://www.youtube.com/watch?v=vkfXBGnDplQ) apply word2vec to user reviews to recommend clothes to their customers. And the [New York Times](http://open.blogs.nytimes.com/2015/08/11/building-the-next-new-york-times-recommendation-engine/?_r=1) applies LDA to recommend articles to their users.\n",
    "\n",
    "On the implementation side our biggest source of inspiration was [Radim Rehurek](https://radimrehurek.com), the creator of the Python Gensim package which we used extensively for our algorithms and the author of countless tutorials and notebooks from which we copied some code.\n"
   ]
  },
  {
   "cell_type": "markdown",
   "metadata": {},
   "source": [
    "## Jupyter Notebook Index"
   ]
  },
  {
   "cell_type": "markdown",
   "metadata": {},
   "source": [
    "Our implementation is spread over several Jupyter notebooks in this repository. Below is the index to all our notebooks.\n",
    "\n",
    "### Data Collection and Processing"
   ]
  },
  {
   "cell_type": "markdown",
   "metadata": {},
   "source": [
    "* [IMDB](https://github.com/soorajmr/moviemeta/tree/master/notebooks/imdb.ipynb) - Extract the info we need from the files downloaded IMDB ftp server\n",
    "\n",
    "\n",
    "* [Wikipedia/DBPedia](https://github.com/soorajmr/moviemeta/tree/master/notebooks/dbpedia_plots.ipynb) - Get metadata from DBPedia and scrape plot summaries from Wikipedia \n",
    "\n",
    "\n",
    "* [Boxofficemojo](https://github.com/soorajmr/moviemeta/tree/master/notebooks/yearly_top_movies.ipynb) - Compile the box office data into dataframes.\n",
    "\n",
    "\n",
    "* [Data Linking](https://github.com/soorajmr/moviemeta/tree/master/notebooks/link_movies.ipynb) - Attempt to connect IMBD and Wikipedia data (incomplete)\n",
    "\n",
    "\n",
    "* [Processing](https://github.com/soorajmr/moviemeta/tree/master/notebooks/processing.ipynb) - Cleanup, tokenization, stemming and other preprocessing of plot text."
   ]
  },
  {
   "cell_type": "markdown",
   "metadata": {},
   "source": [
    "### Models and Visualisations"
   ]
  },
  {
   "cell_type": "markdown",
   "metadata": {},
   "source": [
    "* [Topic Modeling with LSI and LDA](https://github.com/soorajmr/moviemeta/tree/master/notebooks/topic_modeling.ipynb) - Apply LSA and LDA on movie plot text corpus.\n",
    "\n",
    "\n",
    "* [Vectorisation with doc2vec](https://github.com/soorajmr/moviemeta/tree/master/notebooks/doc2vec.ipynb) - Apply doc2vec algorithm on Wikipedia plots, visualize similatiry patterns.\n",
    "\n",
    "\n",
    "* [LDA Topic Distribution](https://github.com/soorajmr/moviemeta/tree/master/notebooks/topic_distribution.ipynb) - Analysis of topics found by LSA across countries and time.\n",
    "\n",
    "\n",
    "* [Data Preparation for Tableau Public](https://github.com/soorajmr/moviemeta/tree/master/notebooks/popularity_visualization.ipynb) - Analyze the distribution of movie topics among popular movies across several countries.\n",
    "\n",
    "\n",
    "* [Data Preparation for Tableau Public 2](https://github.com/soorajmr/moviemeta/tree/master/notebooks/origin_visualization.ipynb) - Analyze the distribution of movie topics across countries of origin\n",
    "\n",
    "\n"
   ]
  },
  {
   "cell_type": "markdown",
   "metadata": {
    "collapsed": true
   },
   "source": [
    "### Final Analysis"
   ]
  },
  {
   "cell_type": "markdown",
   "metadata": {},
   "source": [
    "* [Final Analysis](https://github.com/soorajmr/moviemeta/tree/master/notebooks/final_analysis.ipynb) "
   ]
  }
 ],
 "metadata": {
  "kernelspec": {
   "display_name": "Python 2",
   "language": "python",
   "name": "python2"
  },
  "language_info": {
   "codemirror_mode": {
    "name": "ipython",
    "version": 2
   },
   "file_extension": ".py",
   "mimetype": "text/x-python",
   "name": "python",
   "nbconvert_exporter": "python",
   "pygments_lexer": "ipython2",
   "version": "2.7.10"
  }
 },
 "nbformat": 4,
 "nbformat_minor": 0
}
